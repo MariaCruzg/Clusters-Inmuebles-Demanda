{
 "cells": [
  {
   "cell_type": "code",
   "execution_count": 39,
   "metadata": {},
   "outputs": [],
   "source": [
    "##Conexion al BD \n",
    "library(odbc)\n",
    "library(glue)\n",
    "library(sqldf)\n",
    "library(dplyr)\n",
    "library(ggplot2)\n",
    "\n",
    "\n",
    "con <- dbConnect(odbc(),\n",
    "                   Driver = \"SQLServer\",\n",
    "                 Server = \"54.245.36.29\",\n",
    "                 Database = \"ocesa_dwh\",\n",
    "                 UID = \"ocesa_da\",\n",
    "                 PWD = \"P4ssw0rd3\",\n",
    "                 Port = 1433)"
   ]
  },
  {
   "cell_type": "code",
   "execution_count": 8,
   "metadata": {},
   "outputs": [],
   "source": [
    "\n",
    "\n",
    "x1<-dbListTables(con)\n",
    "\n",
    "Fac_ledger <- tbl(con,\"fact_sap_ledger\") "
   ]
  },
  {
   "cell_type": "code",
   "execution_count": 9,
   "metadata": {},
   "outputs": [
    {
     "data": {
      "text/plain": [
       "# Source:   table<fact_sap_ledger> [?? x 22]\n",
       "# Database: Microsoft SQL Server 13.00.4001[ocesa_da@EC2AMAZ-9QPUDBP/ocesa_dwh]\n",
       "   acreedor_pk ceco_pk cuenta_pk deudor_pk division_pk pep_pk socgla_pk\n",
       "         <int>   <int>     <int>     <int>       <int>  <int>     <int>\n",
       " 1        4152       0       594         0          20      0         0\n",
       " 2        4152       0       594         0          20      0         0\n",
       " 3        4152       0       594         0          20      0         0\n",
       " 4        4152       0       594         0          20      0         0\n",
       " 5        4152       0       594         0          20      0         0\n",
       " 6        4152       0       594         0          20      0         0\n",
       " 7        4152       0       594         0          20      0         0\n",
       " 8        4152       0       594         0          20      0         0\n",
       " 9        4152       0       594         0          20      0         0\n",
       "10        4152       0       594         0          20      0         0\n",
       "# ... with more rows, and 15 more variables: sociedad_pk <int>,\n",
       "#   doc_clase <chr>, doc_num <chr>, doc_fecha <date>, cont_fecha <date>,\n",
       "#   texto <chr>, doc_comp <chr>, texto2 <chr>, monto <dbl>, monto_divisa <dbl>,\n",
       "#   divisa <chr>, indava_filename <chr>, indava_id <int>,\n",
       "#   indava_checksum <chr>, indava_pk <int>"
      ]
     },
     "metadata": {},
     "output_type": "display_data"
    }
   ],
   "source": [
    "Fac_ledger #Visualización de los datos"
   ]
  },
  {
   "cell_type": "code",
   "execution_count": 17,
   "metadata": {},
   "outputs": [
    {
     "name": "stderr",
     "output_type": "stream",
     "text": [
      "Joining, by = \"cuenta_pk\"\n",
      "Joining, by = \"deudor_pk\"\n",
      "Joining, by = c(\"division_pk\", \"pep_pk\", \"sociedad_pk\")\n"
     ]
    }
   ],
   "source": [
    "#Join con cuentas deudor. deudor\n",
    "dim_cuenta <-tbl(con,\"dim_cuenta\")\n",
    "dim_deudor <-tbl(con,\"dim_deudor\") \n",
    "dim_pep    <-tbl(con,\"dim_pep\")\n",
    "cuentabd   <- left_join(Fac_ledger,dim_cuenta)\n",
    "deudorbd   <-left_join(cuentabd,dim_deudor)\n",
    "pepbd      <-left_join(deudorbd,dim_pep)\n"
   ]
  },
  {
   "cell_type": "code",
   "execution_count": 23,
   "metadata": {},
   "outputs": [
    {
     "data": {
      "text/plain": [
       "# Source:   lazy query [?? x 38]\n",
       "# Database: Microsoft SQL Server 13.00.4001[ocesa_da@EC2AMAZ-9QPUDBP/ocesa_dwh]\n",
       "   acreedor_pk ceco_pk cuenta_pk deudor_pk division_pk pep_pk socgla_pk\n",
       "         <int>   <int>     <int>     <int>       <int>  <int>     <int>\n",
       " 1        4152       0       594         0          20      0         0\n",
       " 2        4152       0       594         0          20      0         0\n",
       " 3        4152       0       594         0          20      0         0\n",
       " 4        4152       0       594         0          20      0         0\n",
       " 5        4152       0       594         0          20      0         0\n",
       " 6        4152       0       594         0          20      0         0\n",
       " 7        4152       0       594         0          20      0         0\n",
       " 8        4152       0       594         0          20      0         0\n",
       " 9        4152       0       594         0          20      0         0\n",
       "10        4152       0       594         0          20      0         0\n",
       "# ... with more rows, and 31 more variables: sociedad_pk <int>,\n",
       "#   doc_clase <chr>, doc_num <chr>, doc_fecha <date>, cont_fecha <date>,\n",
       "#   texto <chr>, doc_comp <chr>, texto2 <chr>, monto <dbl>, monto_divisa <dbl>,\n",
       "#   divisa <chr>, indava_filename <chr>, indava_id <int>,\n",
       "#   indava_checksum <chr>, indava_pk <int>, cuenta_cve <dbl>, cuenta_des <chr>,\n",
       "#   cuenta_des_ind <chr>, cuenta_naturaleza <chr>, cuenta_efin <chr>,\n",
       "#   deudor_cve <chr>, deudor_des <chr>, deudor_des_ind <chr>,\n",
       "#   deudor_clase <chr>, pep_cve <chr>, pep_des <chr>, pep_des_ind <chr>,\n",
       "#   pep_anio <int>, pep_mes <int>, pep_codigo <chr>, pep_responsable <chr>"
      ]
     },
     "metadata": {},
     "output_type": "display_data"
    }
   ],
   "source": [
    "##agrupación por pep(Evento_descriptivo)\n",
    "pepbd"
   ]
  },
  {
   "cell_type": "code",
   "execution_count": 27,
   "metadata": {},
   "outputs": [],
   "source": [
    " anio_pep<-pepbd%>%group_by(pep_anio)%>% summarise(monto=sum(monto_divisa))"
   ]
  },
  {
   "cell_type": "code",
   "execution_count": 28,
   "metadata": {},
   "outputs": [
    {
     "name": "stderr",
     "output_type": "stream",
     "text": [
      "Warning message:\n",
      "“Missing values are always removed in SQL.\n",
      "Use `SUM(x, na.rm = TRUE)` to silence this warning”"
     ]
    },
    {
     "data": {
      "text/plain": [
       "# Source:   lazy query [?? x 2]\n",
       "# Database: Microsoft SQL Server 13.00.4001[ocesa_da@EC2AMAZ-9QPUDBP/ocesa_dwh]\n",
       "   pep_anio        monto\n",
       "      <int>        <dbl>\n",
       " 1        0 -1107096739.\n",
       " 2     2013   -11642014.\n",
       " 3     2008           0.\n",
       " 4       NA  3179070125.\n",
       " 5     2018   455159573.\n",
       " 6     2012   -60400351.\n",
       " 7     2016 -1159518960.\n",
       " 8     2011   -16297470.\n",
       " 9     2009   -14132550.\n",
       "10     2017  -864021131.\n",
       "# ... with more rows"
      ]
     },
     "metadata": {},
     "output_type": "display_data"
    }
   ],
   "source": [
    "anio_pep"
   ]
  },
  {
   "cell_type": "code",
   "execution_count": 40,
   "metadata": {},
   "outputs": [
    {
     "name": "stderr",
     "output_type": "stream",
     "text": [
      "Warning message:\n",
      "“Missing values are always removed in SQL.\n",
      "Use `SUM(x, na.rm = TRUE)` to silence this warning”"
     ]
    }
   ],
   "source": [
    "resut_anio<-as.data.frame(anio_pep)"
   ]
  },
  {
   "cell_type": "code",
   "execution_count": 41,
   "metadata": {},
   "outputs": [
    {
     "data": {
      "image/png": "[encoded data removed]",
      "text/plain": [
       "plot without title"
      ]
     },
     "metadata": {},
     "output_type": "display_data"
    }
   ],
   "source": [
    "plot(resut_anio)"
   ]
  },
  {
   "cell_type": "code",
   "execution_count": null,
   "metadata": {},
   "outputs": [],
   "source": []
  }
 ],
 "metadata": {
  "kernelspec": {
   "display_name": "R",
   "language": "R",
   "name": "ir"
  },
  "language_info": {
   "codemirror_mode": "r",
   "file_extension": ".r",
   "mimetype": "text/x-r-source",
   "name": "R",
   "pygments_lexer": "r",
   "version": "3.4.4"
  }
 },
 "nbformat": 4,
 "nbformat_minor": 2
}
